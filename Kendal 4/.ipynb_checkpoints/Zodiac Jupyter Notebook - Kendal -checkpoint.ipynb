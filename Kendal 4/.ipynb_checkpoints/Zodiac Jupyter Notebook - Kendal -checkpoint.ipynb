{
 "cells": [
  {
   "cell_type": "markdown",
   "id": "1776c8dc",
   "metadata": {},
   "source": [
    "## Preprocessing Data"
   ]
  },
  {
   "cell_type": "code",
   "execution_count": 1,
   "id": "81848f24",
   "metadata": {},
   "outputs": [],
   "source": [
    "# import dependencies \n",
    "import pandas as pd\n",
    "import pandas as pd\n",
    "from sklearn.metrics import balanced_accuracy_score\n",
    "from sklearn.model_selection import train_test_split\n",
    "from sklearn.linear_model import LogisticRegression"
   ]
  },
  {
   "cell_type": "code",
   "execution_count": 2,
   "id": "27dfa01d",
   "metadata": {},
   "outputs": [],
   "source": [
    "# define function to find sun sign and add in a column \n",
    "\n",
    "def get_sun_sign(date):\n",
    "    day = date.day\n",
    "    month = date.month_name()\n",
    "    \n",
    "    if month == 'December':\n",
    "        sun_sign = 'Sagittarius' if (day < 22) else 'Capricorn'\n",
    "    elif month == 'January':\n",
    "        sun_sign = 'Capricorn' if (day < 20) else 'Aquarius'\n",
    "    elif month == 'February':\n",
    "        sun_sign = 'Aquarius' if (day < 19) else 'Pisces'\n",
    "    elif month == 'March':\n",
    "        sun_sign = 'Pisces' if (day < 21) else 'Aries'\n",
    "    elif month == 'April':\n",
    "        sun_sign = 'Aries' if (day < 20) else 'Taurus'\n",
    "    elif month == 'May':\n",
    "        sun_sign = 'Taurus' if (day < 21) else 'Gemini'\n",
    "    elif month == 'June':\n",
    "        sun_sign = 'Gemini' if (day < 21) else 'Cancer'\n",
    "    elif month == 'July':\n",
    "        sun_sign = 'Cancer' if (day < 23) else 'Leo'\n",
    "    elif month == 'August':\n",
    "        sun_sign = 'Leo' if (day < 23) else 'Virgo'\n",
    "    elif month == 'September':\n",
    "        sun_sign = 'Virgo' if (day < 23) else 'Libra'\n",
    "    elif month == 'October':\n",
    "        sun_sign = 'Libra' if (day < 23) else 'Scorpio'\n",
    "    elif month == 'November':\n",
    "        sun_sign = 'Scorpio' if (day < 22) else 'Sagittarius'\n",
    "    else:\n",
    "        sun_sign = None\n",
    "        \n",
    "    return sun_sign"
   ]
  },
  {
   "cell_type": "code",
   "execution_count": 3,
   "id": "bb10b3d0",
   "metadata": {},
   "outputs": [],
   "source": [
    "# define function to find birth month\n",
    "\n",
    "def get_birth_month(date):\n",
    "    day = date.day\n",
    "    month = date.month_name()\n",
    "    \n",
    "    if month == 'December':\n",
    "        birth_month = 'December'\n",
    "    elif month == 'January':\n",
    "        birth_month = 'January'\n",
    "    elif month == 'February':\n",
    "        birth_month = 'February'\n",
    "    elif month == 'March':\n",
    "        birth_month = 'March'\n",
    "    elif month == 'April':\n",
    "        birth_month = 'April' \n",
    "    elif month == 'May':\n",
    "        birth_month = 'May' \n",
    "    elif month == 'June':\n",
    "        birth_month = 'June'\n",
    "    elif month == 'July':\n",
    "        birth_month = 'July'\n",
    "    elif month == 'August':\n",
    "        birth_month = 'August'\n",
    "    elif month == 'September':\n",
    "        birth_month = 'September'\n",
    "    elif month == 'October':\n",
    "        birth_month = 'October'\n",
    "    elif month == 'November':\n",
    "        birth_month = 'November'\n",
    "    else:\n",
    "        birth_month = None\n",
    "        \n",
    "    return birth_month"
   ]
  },
  {
   "cell_type": "code",
   "execution_count": 4,
   "id": "169188bd",
   "metadata": {},
   "outputs": [],
   "source": [
    "# read in csv file and save as dataframe\n",
    "df_zodiac = pd.read_csv(\"MBTI_types_Birthdays.csv\")\n"
   ]
  },
  {
   "cell_type": "code",
   "execution_count": 5,
   "id": "3333d5e0",
   "metadata": {},
   "outputs": [
    {
     "data": {
      "text/html": [
       "<div>\n",
       "<style scoped>\n",
       "    .dataframe tbody tr th:only-of-type {\n",
       "        vertical-align: middle;\n",
       "    }\n",
       "\n",
       "    .dataframe tbody tr th {\n",
       "        vertical-align: top;\n",
       "    }\n",
       "\n",
       "    .dataframe thead th {\n",
       "        text-align: right;\n",
       "    }\n",
       "</style>\n",
       "<table border=\"1\" class=\"dataframe\">\n",
       "  <thead>\n",
       "    <tr style=\"text-align: right;\">\n",
       "      <th></th>\n",
       "      <th>Timestamp</th>\n",
       "      <th>Birthday</th>\n",
       "      <th>Birthday.1</th>\n",
       "      <th>Zodiac</th>\n",
       "      <th>MBTI Type</th>\n",
       "      <th>Unnamed: 5</th>\n",
       "      <th>Unnamed: 6</th>\n",
       "      <th>Unnamed: 7</th>\n",
       "      <th>Unnamed: 8</th>\n",
       "      <th>Unnamed: 9</th>\n",
       "      <th>Unnamed: 10</th>\n",
       "      <th>Unnamed: 11</th>\n",
       "      <th>Unnamed: 12</th>\n",
       "    </tr>\n",
       "  </thead>\n",
       "  <tbody>\n",
       "    <tr>\n",
       "      <th>0</th>\n",
       "      <td>4/15/2020 4:26</td>\n",
       "      <td>10/5/2020</td>\n",
       "      <td>10/5</td>\n",
       "      <td>Libra</td>\n",
       "      <td>INFP</td>\n",
       "      <td>NaN</td>\n",
       "      <td>NaN</td>\n",
       "      <td>NaN</td>\n",
       "      <td>NaN</td>\n",
       "      <td>NaN</td>\n",
       "      <td>NaN</td>\n",
       "      <td>NaN</td>\n",
       "      <td>NaN</td>\n",
       "    </tr>\n",
       "    <tr>\n",
       "      <th>1</th>\n",
       "      <td>4/16/2020 17:02</td>\n",
       "      <td>1/1/2007</td>\n",
       "      <td>1/1</td>\n",
       "      <td>Capricorn</td>\n",
       "      <td>ENTP</td>\n",
       "      <td>NaN</td>\n",
       "      <td>NaN</td>\n",
       "      <td>NaN</td>\n",
       "      <td>NaN</td>\n",
       "      <td>NaN</td>\n",
       "      <td>NaN</td>\n",
       "      <td>NaN</td>\n",
       "      <td>NaN</td>\n",
       "    </tr>\n",
       "    <tr>\n",
       "      <th>2</th>\n",
       "      <td>4/17/2020 20:05</td>\n",
       "      <td>10/3/2006</td>\n",
       "      <td>10/3</td>\n",
       "      <td>Libra</td>\n",
       "      <td>INTP</td>\n",
       "      <td>NaN</td>\n",
       "      <td>NaN</td>\n",
       "      <td>NaN</td>\n",
       "      <td>NaN</td>\n",
       "      <td>NaN</td>\n",
       "      <td>NaN</td>\n",
       "      <td>NaN</td>\n",
       "      <td>NaN</td>\n",
       "    </tr>\n",
       "    <tr>\n",
       "      <th>3</th>\n",
       "      <td>4/15/2020 8:35</td>\n",
       "      <td>8/3/2006</td>\n",
       "      <td>8/3</td>\n",
       "      <td>Leo</td>\n",
       "      <td>INTP</td>\n",
       "      <td>NaN</td>\n",
       "      <td>NaN</td>\n",
       "      <td>NaN</td>\n",
       "      <td>NaN</td>\n",
       "      <td>NaN</td>\n",
       "      <td>NaN</td>\n",
       "      <td>NaN</td>\n",
       "      <td>NaN</td>\n",
       "    </tr>\n",
       "    <tr>\n",
       "      <th>4</th>\n",
       "      <td>4/14/2020 6:46</td>\n",
       "      <td>4/16/2006</td>\n",
       "      <td>4/16</td>\n",
       "      <td>Aries</td>\n",
       "      <td>ESFP</td>\n",
       "      <td>NaN</td>\n",
       "      <td>NaN</td>\n",
       "      <td>NaN</td>\n",
       "      <td>NaN</td>\n",
       "      <td>NaN</td>\n",
       "      <td>NaN</td>\n",
       "      <td>NaN</td>\n",
       "      <td>NaN</td>\n",
       "    </tr>\n",
       "  </tbody>\n",
       "</table>\n",
       "</div>"
      ],
      "text/plain": [
       "         Timestamp   Birthday Birthday.1     Zodiac MBTI Type  Unnamed: 5  \\\n",
       "0   4/15/2020 4:26  10/5/2020       10/5      Libra      INFP         NaN   \n",
       "1  4/16/2020 17:02   1/1/2007        1/1  Capricorn      ENTP         NaN   \n",
       "2  4/17/2020 20:05  10/3/2006       10/3      Libra      INTP         NaN   \n",
       "3   4/15/2020 8:35   8/3/2006        8/3        Leo      INTP         NaN   \n",
       "4   4/14/2020 6:46  4/16/2006       4/16      Aries      ESFP         NaN   \n",
       "\n",
       "   Unnamed: 6  Unnamed: 7  Unnamed: 8  Unnamed: 9  Unnamed: 10  Unnamed: 11  \\\n",
       "0         NaN         NaN         NaN         NaN          NaN          NaN   \n",
       "1         NaN         NaN         NaN         NaN          NaN          NaN   \n",
       "2         NaN         NaN         NaN         NaN          NaN          NaN   \n",
       "3         NaN         NaN         NaN         NaN          NaN          NaN   \n",
       "4         NaN         NaN         NaN         NaN          NaN          NaN   \n",
       "\n",
       "   Unnamed: 12  \n",
       "0          NaN  \n",
       "1          NaN  \n",
       "2          NaN  \n",
       "3          NaN  \n",
       "4          NaN  "
      ]
     },
     "execution_count": 5,
     "metadata": {},
     "output_type": "execute_result"
    }
   ],
   "source": [
    "# check dataframe\n",
    "df_zodiac.head()\n"
   ]
  },
  {
   "cell_type": "code",
   "execution_count": 6,
   "id": "1a7f6c7e",
   "metadata": {},
   "outputs": [],
   "source": [
    "# remove unneccessary columns from DF\n",
    "# df_zodiac = df_zodiac[['Timestamp', 'Birthday', 'MBTI Type']]\n",
    "df_zodiac = df_zodiac.drop(columns=['Zodiac','Timestamp', 'Birthday.1', 'Unnamed: 5', 'Unnamed: 6', 'Unnamed: 7', 'Unnamed: 8', 'Unnamed: 9',\n",
    "       'Unnamed: 10', 'Unnamed: 11', 'Unnamed: 12'])\n"
   ]
  },
  {
   "cell_type": "code",
   "execution_count": 7,
   "id": "59e1cf31",
   "metadata": {},
   "outputs": [
    {
     "data": {
      "text/html": [
       "<div>\n",
       "<style scoped>\n",
       "    .dataframe tbody tr th:only-of-type {\n",
       "        vertical-align: middle;\n",
       "    }\n",
       "\n",
       "    .dataframe tbody tr th {\n",
       "        vertical-align: top;\n",
       "    }\n",
       "\n",
       "    .dataframe thead th {\n",
       "        text-align: right;\n",
       "    }\n",
       "</style>\n",
       "<table border=\"1\" class=\"dataframe\">\n",
       "  <thead>\n",
       "    <tr style=\"text-align: right;\">\n",
       "      <th></th>\n",
       "      <th>Birthday</th>\n",
       "      <th>MBTI Type</th>\n",
       "      <th>ENFJ</th>\n",
       "      <th>ENFP</th>\n",
       "      <th>ENTJ</th>\n",
       "      <th>ENTP</th>\n",
       "      <th>ESFJ</th>\n",
       "      <th>ESFP</th>\n",
       "      <th>ESTJ</th>\n",
       "      <th>ESTP</th>\n",
       "      <th>INFJ</th>\n",
       "      <th>INFP</th>\n",
       "      <th>INTJ</th>\n",
       "      <th>INTP</th>\n",
       "      <th>ISFJ</th>\n",
       "      <th>ISFP</th>\n",
       "      <th>ISTJ</th>\n",
       "      <th>ISTP</th>\n",
       "    </tr>\n",
       "  </thead>\n",
       "  <tbody>\n",
       "    <tr>\n",
       "      <th>0</th>\n",
       "      <td>10/5/2020</td>\n",
       "      <td>INFP</td>\n",
       "      <td>0</td>\n",
       "      <td>0</td>\n",
       "      <td>0</td>\n",
       "      <td>0</td>\n",
       "      <td>0</td>\n",
       "      <td>0</td>\n",
       "      <td>0</td>\n",
       "      <td>0</td>\n",
       "      <td>0</td>\n",
       "      <td>1</td>\n",
       "      <td>0</td>\n",
       "      <td>0</td>\n",
       "      <td>0</td>\n",
       "      <td>0</td>\n",
       "      <td>0</td>\n",
       "      <td>0</td>\n",
       "    </tr>\n",
       "    <tr>\n",
       "      <th>1</th>\n",
       "      <td>1/1/2007</td>\n",
       "      <td>ENTP</td>\n",
       "      <td>0</td>\n",
       "      <td>0</td>\n",
       "      <td>0</td>\n",
       "      <td>1</td>\n",
       "      <td>0</td>\n",
       "      <td>0</td>\n",
       "      <td>0</td>\n",
       "      <td>0</td>\n",
       "      <td>0</td>\n",
       "      <td>0</td>\n",
       "      <td>0</td>\n",
       "      <td>0</td>\n",
       "      <td>0</td>\n",
       "      <td>0</td>\n",
       "      <td>0</td>\n",
       "      <td>0</td>\n",
       "    </tr>\n",
       "    <tr>\n",
       "      <th>2</th>\n",
       "      <td>10/3/2006</td>\n",
       "      <td>INTP</td>\n",
       "      <td>0</td>\n",
       "      <td>0</td>\n",
       "      <td>0</td>\n",
       "      <td>0</td>\n",
       "      <td>0</td>\n",
       "      <td>0</td>\n",
       "      <td>0</td>\n",
       "      <td>0</td>\n",
       "      <td>0</td>\n",
       "      <td>0</td>\n",
       "      <td>0</td>\n",
       "      <td>1</td>\n",
       "      <td>0</td>\n",
       "      <td>0</td>\n",
       "      <td>0</td>\n",
       "      <td>0</td>\n",
       "    </tr>\n",
       "    <tr>\n",
       "      <th>3</th>\n",
       "      <td>8/3/2006</td>\n",
       "      <td>INTP</td>\n",
       "      <td>0</td>\n",
       "      <td>0</td>\n",
       "      <td>0</td>\n",
       "      <td>0</td>\n",
       "      <td>0</td>\n",
       "      <td>0</td>\n",
       "      <td>0</td>\n",
       "      <td>0</td>\n",
       "      <td>0</td>\n",
       "      <td>0</td>\n",
       "      <td>0</td>\n",
       "      <td>1</td>\n",
       "      <td>0</td>\n",
       "      <td>0</td>\n",
       "      <td>0</td>\n",
       "      <td>0</td>\n",
       "    </tr>\n",
       "    <tr>\n",
       "      <th>4</th>\n",
       "      <td>4/16/2006</td>\n",
       "      <td>ESFP</td>\n",
       "      <td>0</td>\n",
       "      <td>0</td>\n",
       "      <td>0</td>\n",
       "      <td>0</td>\n",
       "      <td>0</td>\n",
       "      <td>1</td>\n",
       "      <td>0</td>\n",
       "      <td>0</td>\n",
       "      <td>0</td>\n",
       "      <td>0</td>\n",
       "      <td>0</td>\n",
       "      <td>0</td>\n",
       "      <td>0</td>\n",
       "      <td>0</td>\n",
       "      <td>0</td>\n",
       "      <td>0</td>\n",
       "    </tr>\n",
       "  </tbody>\n",
       "</table>\n",
       "</div>"
      ],
      "text/plain": [
       "    Birthday MBTI Type  ENFJ  ENFP  ENTJ  ENTP  ESFJ  ESFP  ESTJ  ESTP  INFJ  \\\n",
       "0  10/5/2020      INFP     0     0     0     0     0     0     0     0     0   \n",
       "1   1/1/2007      ENTP     0     0     0     1     0     0     0     0     0   \n",
       "2  10/3/2006      INTP     0     0     0     0     0     0     0     0     0   \n",
       "3   8/3/2006      INTP     0     0     0     0     0     0     0     0     0   \n",
       "4  4/16/2006      ESFP     0     0     0     0     0     1     0     0     0   \n",
       "\n",
       "   INFP  INTJ  INTP  ISFJ  ISFP  ISTJ  ISTP  \n",
       "0     1     0     0     0     0     0     0  \n",
       "1     0     0     0     0     0     0     0  \n",
       "2     0     0     1     0     0     0     0  \n",
       "3     0     0     1     0     0     0     0  \n",
       "4     0     0     0     0     0     0     0  "
      ]
     },
     "execution_count": 7,
     "metadata": {},
     "output_type": "execute_result"
    }
   ],
   "source": [
    "# create a dataframe with MBTI types added as columns as columns, using get dummies\n",
    "df_zodiac = pd.concat([df_zodiac, pd.get_dummies(df_zodiac['MBTI Type'])], axis=1)\n",
    "df_zodiac.head()\n"
   ]
  },
  {
   "cell_type": "code",
   "execution_count": 8,
   "id": "e364bf29",
   "metadata": {},
   "outputs": [],
   "source": [
    "# translate birthday field to datetime format\n",
    "df_zodiac['Birthday'] = pd.to_datetime(df_zodiac['Birthday'],infer_datetime_format=True)\n",
    "\n",
    "# create column with zodiac signs in df_zodiac\n",
    "df_zodiac['Sun_Sign'] = df_zodiac['Birthday'].apply(lambda X: get_sun_sign(X))\n",
    "\n",
    "# add birth month to df\n",
    "df_zodiac['Birth_Month'] = df_zodiac['Birthday'].apply(lambda X: get_birth_month(X))"
   ]
  },
  {
   "cell_type": "code",
   "execution_count": 9,
   "id": "34a9a71d",
   "metadata": {},
   "outputs": [],
   "source": [
    "# define function to convert MBTI types to 8 separate dimensions\n",
    "\n",
    "MBTI_type_traits = {\n",
    "    \"INFP\": [\n",
    "        \"Introverted\",\n",
    "        \"Intuition\",\n",
    "        \"Feeling\",\n",
    "        \"Perceiving\"\n",
    "    ],\n",
    "    \"INTP\": [\n",
    "        \"Introverted\",\n",
    "        \"Intuition\",\n",
    "        \"Thinking\",\n",
    "        \"Perceiving\"\n",
    "    ],\n",
    "    \"INTJ\": [\n",
    "        \"Introverted\",\n",
    "        \"Intuition\",\n",
    "        \"Thinking\",\n",
    "        \"Judging\"\n",
    "    ],\n",
    "    \"INFJ\": [\n",
    "        \"Introverted\",\n",
    "        \"Intuition\",\n",
    "        \"Feeling\",\n",
    "        \"Judging\"\n",
    "    ],\n",
    "    \"ENTP\": [\n",
    "        \"Extroverted\",\n",
    "        \"Intuition\",\n",
    "        \"Thinking\",\n",
    "        \"Perceiving\"\n",
    "    ],\n",
    "    \"ENFJ\": [\n",
    "        \"Extroverted\",\n",
    "        \"Intuition\",\n",
    "        \"Thinking\",\n",
    "        \"Judging\"\n",
    "    ],\n",
    "    \"ENTJ\": [\n",
    "        \"Extroverted\",\n",
    "        \"Intuition\",\n",
    "        \"Thinking\",\n",
    "        \"Judging\"\n",
    "    ],\n",
    "    \"ENFP\": [\n",
    "        \"Extroverted\",\n",
    "        \"Intuition\",\n",
    "        \"Feeling\",\n",
    "        \"Perceiving\"\n",
    "    ],\n",
    "    \n",
    "    'ISTJ': [\n",
    "        'Introverted',\n",
    "        'Sensing',\n",
    "        'Thinking',\n",
    "        'Judging'\n",
    "    ],\n",
    "    'ISFP':[\n",
    "        'Introverted',\n",
    "        'Sensing',\n",
    "        'Feeling',\n",
    "        'Perceiving'\n",
    "    ],\n",
    "    'ISFJ': [\n",
    "        'Introverted',\n",
    "        'Sensing',\n",
    "        'Feeling',\n",
    "        'Judging'\n",
    "    ],\n",
    "    'ISTP':[\n",
    "        'Introverted',\n",
    "        'Sensing',\n",
    "        'Thinking',\n",
    "        'Perceiving'\n",
    "    ],\n",
    "    'ESTJ':[\n",
    "        'Extroverted',\n",
    "        'Sensing',\n",
    "        'Thinking',\n",
    "        'Judging'\n",
    "    ],\n",
    "    'ESFJ':[\n",
    "        'Extroverted',\n",
    "        'Sensing',\n",
    "        'Feeling',\n",
    "        'Judging'\n",
    "    ],\n",
    "    'ESTP':[\n",
    "        'Extroverted',\n",
    "        'Sensing',\n",
    "        'Thinking',\n",
    "        'Perceiving'\n",
    "    ],\n",
    "    'ESFP':[\n",
    "        'Extroverted',\n",
    "        'Sensing',\n",
    "        'Feeling',\n",
    "        'Perceiving'\n",
    "    ],\n",
    "}\n",
    "\n",
    "traits = []\n",
    "for MBTI, MBTI_traits in MBTI_type_traits.items():\n",
    "    traits.extend(MBTI_traits)\n",
    "    \n",
    "traits = list(set(traits))\n",
    "\n",
    "for t in traits:\n",
    "    df_zodiac[t] = 0\n",
    "\n",
    "for MBTI, traits in MBTI_type_traits.items():\n",
    "    for trait in traits:\n",
    "        df_zodiac.loc[df_zodiac[\"MBTI Type\"] == MBTI, trait] = 1"
   ]
  },
  {
   "cell_type": "code",
   "execution_count": 10,
   "id": "0fff405a",
   "metadata": {},
   "outputs": [
    {
     "data": {
      "text/html": [
       "<div>\n",
       "<style scoped>\n",
       "    .dataframe tbody tr th:only-of-type {\n",
       "        vertical-align: middle;\n",
       "    }\n",
       "\n",
       "    .dataframe tbody tr th {\n",
       "        vertical-align: top;\n",
       "    }\n",
       "\n",
       "    .dataframe thead th {\n",
       "        text-align: right;\n",
       "    }\n",
       "</style>\n",
       "<table border=\"1\" class=\"dataframe\">\n",
       "  <thead>\n",
       "    <tr style=\"text-align: right;\">\n",
       "      <th></th>\n",
       "      <th>Birthday</th>\n",
       "      <th>MBTI Type</th>\n",
       "      <th>ENFJ</th>\n",
       "      <th>ENFP</th>\n",
       "      <th>ENTJ</th>\n",
       "      <th>ENTP</th>\n",
       "      <th>ESFJ</th>\n",
       "      <th>ESFP</th>\n",
       "      <th>ESTJ</th>\n",
       "      <th>ESTP</th>\n",
       "      <th>...</th>\n",
       "      <th>Cancer</th>\n",
       "      <th>Capricorn</th>\n",
       "      <th>Gemini</th>\n",
       "      <th>Leo</th>\n",
       "      <th>Libra</th>\n",
       "      <th>Pisces</th>\n",
       "      <th>Sagittarius</th>\n",
       "      <th>Scorpio</th>\n",
       "      <th>Taurus</th>\n",
       "      <th>Virgo</th>\n",
       "    </tr>\n",
       "  </thead>\n",
       "  <tbody>\n",
       "    <tr>\n",
       "      <th>0</th>\n",
       "      <td>2020-10-05</td>\n",
       "      <td>INFP</td>\n",
       "      <td>0</td>\n",
       "      <td>0</td>\n",
       "      <td>0</td>\n",
       "      <td>0</td>\n",
       "      <td>0</td>\n",
       "      <td>0</td>\n",
       "      <td>0</td>\n",
       "      <td>0</td>\n",
       "      <td>...</td>\n",
       "      <td>0</td>\n",
       "      <td>0</td>\n",
       "      <td>0</td>\n",
       "      <td>0</td>\n",
       "      <td>1</td>\n",
       "      <td>0</td>\n",
       "      <td>0</td>\n",
       "      <td>0</td>\n",
       "      <td>0</td>\n",
       "      <td>0</td>\n",
       "    </tr>\n",
       "    <tr>\n",
       "      <th>1</th>\n",
       "      <td>2007-01-01</td>\n",
       "      <td>ENTP</td>\n",
       "      <td>0</td>\n",
       "      <td>0</td>\n",
       "      <td>0</td>\n",
       "      <td>1</td>\n",
       "      <td>0</td>\n",
       "      <td>0</td>\n",
       "      <td>0</td>\n",
       "      <td>0</td>\n",
       "      <td>...</td>\n",
       "      <td>0</td>\n",
       "      <td>1</td>\n",
       "      <td>0</td>\n",
       "      <td>0</td>\n",
       "      <td>0</td>\n",
       "      <td>0</td>\n",
       "      <td>0</td>\n",
       "      <td>0</td>\n",
       "      <td>0</td>\n",
       "      <td>0</td>\n",
       "    </tr>\n",
       "    <tr>\n",
       "      <th>2</th>\n",
       "      <td>2006-10-03</td>\n",
       "      <td>INTP</td>\n",
       "      <td>0</td>\n",
       "      <td>0</td>\n",
       "      <td>0</td>\n",
       "      <td>0</td>\n",
       "      <td>0</td>\n",
       "      <td>0</td>\n",
       "      <td>0</td>\n",
       "      <td>0</td>\n",
       "      <td>...</td>\n",
       "      <td>0</td>\n",
       "      <td>0</td>\n",
       "      <td>0</td>\n",
       "      <td>0</td>\n",
       "      <td>1</td>\n",
       "      <td>0</td>\n",
       "      <td>0</td>\n",
       "      <td>0</td>\n",
       "      <td>0</td>\n",
       "      <td>0</td>\n",
       "    </tr>\n",
       "    <tr>\n",
       "      <th>3</th>\n",
       "      <td>2006-08-03</td>\n",
       "      <td>INTP</td>\n",
       "      <td>0</td>\n",
       "      <td>0</td>\n",
       "      <td>0</td>\n",
       "      <td>0</td>\n",
       "      <td>0</td>\n",
       "      <td>0</td>\n",
       "      <td>0</td>\n",
       "      <td>0</td>\n",
       "      <td>...</td>\n",
       "      <td>0</td>\n",
       "      <td>0</td>\n",
       "      <td>0</td>\n",
       "      <td>1</td>\n",
       "      <td>0</td>\n",
       "      <td>0</td>\n",
       "      <td>0</td>\n",
       "      <td>0</td>\n",
       "      <td>0</td>\n",
       "      <td>0</td>\n",
       "    </tr>\n",
       "    <tr>\n",
       "      <th>4</th>\n",
       "      <td>2006-04-16</td>\n",
       "      <td>ESFP</td>\n",
       "      <td>0</td>\n",
       "      <td>0</td>\n",
       "      <td>0</td>\n",
       "      <td>0</td>\n",
       "      <td>0</td>\n",
       "      <td>1</td>\n",
       "      <td>0</td>\n",
       "      <td>0</td>\n",
       "      <td>...</td>\n",
       "      <td>0</td>\n",
       "      <td>0</td>\n",
       "      <td>0</td>\n",
       "      <td>0</td>\n",
       "      <td>0</td>\n",
       "      <td>0</td>\n",
       "      <td>0</td>\n",
       "      <td>0</td>\n",
       "      <td>0</td>\n",
       "      <td>0</td>\n",
       "    </tr>\n",
       "  </tbody>\n",
       "</table>\n",
       "<p>5 rows × 52 columns</p>\n",
       "</div>"
      ],
      "text/plain": [
       "    Birthday MBTI Type  ENFJ  ENFP  ENTJ  ENTP  ESFJ  ESFP  ESTJ  ESTP  ...  \\\n",
       "0 2020-10-05      INFP     0     0     0     0     0     0     0     0  ...   \n",
       "1 2007-01-01      ENTP     0     0     0     1     0     0     0     0  ...   \n",
       "2 2006-10-03      INTP     0     0     0     0     0     0     0     0  ...   \n",
       "3 2006-08-03      INTP     0     0     0     0     0     0     0     0  ...   \n",
       "4 2006-04-16      ESFP     0     0     0     0     0     1     0     0  ...   \n",
       "\n",
       "   Cancer  Capricorn  Gemini  Leo  Libra  Pisces  Sagittarius  Scorpio Taurus  \\\n",
       "0       0          0       0    0      1       0            0        0      0   \n",
       "1       0          1       0    0      0       0            0        0      0   \n",
       "2       0          0       0    0      1       0            0        0      0   \n",
       "3       0          0       0    1      0       0            0        0      0   \n",
       "4       0          0       0    0      0       0            0        0      0   \n",
       "\n",
       "  Virgo  \n",
       "0     0  \n",
       "1     0  \n",
       "2     0  \n",
       "3     0  \n",
       "4     0  \n",
       "\n",
       "[5 rows x 52 columns]"
      ]
     },
     "execution_count": 10,
     "metadata": {},
     "output_type": "execute_result"
    }
   ],
   "source": [
    "# add months as dimensions to the datafram\n",
    "df_zodiac = pd.concat([df_zodiac, pd.get_dummies(df_zodiac['Birth_Month'])], axis=1)\n",
    "df_zodiac = pd.concat([df_zodiac, pd.get_dummies(df_zodiac['Sun_Sign'])], axis=1)\n",
    "df_zodiac.head()\n"
   ]
  },
  {
   "cell_type": "code",
   "execution_count": 11,
   "id": "8d098e2f",
   "metadata": {},
   "outputs": [
    {
     "data": {
      "text/plain": [
       "Index(['Birthday', 'MBTI Type', 'ENFJ', 'ENFP', 'ENTJ', 'ENTP', 'ESFJ', 'ESFP',\n",
       "       'ESTJ', 'ESTP', 'INFJ', 'INFP', 'INTJ', 'INTP', 'ISFJ', 'ISFP', 'ISTJ',\n",
       "       'ISTP', 'Sun_Sign', 'Birth_Month', 'Introverted', 'Thinking',\n",
       "       'Perceiving', 'Extroverted', 'Sensing', 'Feeling', 'Judging',\n",
       "       'Intuition', 'April', 'August', 'December', 'February', 'January',\n",
       "       'July', 'June', 'March', 'May', 'November', 'October', 'September',\n",
       "       'Aquarius', 'Aries', 'Cancer', 'Capricorn', 'Gemini', 'Leo', 'Libra',\n",
       "       'Pisces', 'Sagittarius', 'Scorpio', 'Taurus', 'Virgo'],\n",
       "      dtype='object')"
      ]
     },
     "execution_count": 11,
     "metadata": {},
     "output_type": "execute_result"
    }
   ],
   "source": [
    "# get list of columns in df_zodiac\n",
    "df_zodiac.columns"
   ]
  },
  {
   "cell_type": "markdown",
   "id": "a0fd2ac4",
   "metadata": {},
   "source": [
    "## Machine Learning Models"
   ]
  },
  {
   "cell_type": "markdown",
   "id": "e73cd4f3",
   "metadata": {},
   "source": [
    "### Machine Learning to predict Sun Sign by MBTI Types"
   ]
  },
  {
   "cell_type": "code",
   "execution_count": 12,
   "id": "35aec68b",
   "metadata": {},
   "outputs": [],
   "source": [
    "# Separate the data into labels and features -- sun sign as target and MBTI Types as dimensions\n",
    "\n",
    "# Separate the y variable, the labels\n",
    "y_zodiac_MBTI = df_zodiac['Sun_Sign']\n",
    "\n",
    "# Separate the X variable, the features\n",
    "X_zodiac_MBTI = df_zodiac.drop(columns=['Birthday', 'MBTI Type', 'Sun_Sign', 'Birth_Month', 'Introverted', 'Perceiving',\n",
    "       'Intuition', 'Extroverted', 'Feeling', 'Judging', 'Sensing', 'Thinking',\n",
    "       'April', 'August', 'December', 'February', 'January', 'July', 'June',\n",
    "       'March', 'May', 'November', 'October', 'September', 'Aquarius', 'Aries',\n",
    "       'Cancer', 'Capricorn', 'Gemini', 'Leo', 'Libra', 'Pisces',\n",
    "       'Sagittarius', 'Scorpio', 'Taurus', 'Virgo'])"
   ]
  },
  {
   "cell_type": "code",
   "execution_count": 13,
   "id": "d0f0ee1c",
   "metadata": {},
   "outputs": [
    {
     "data": {
      "text/plain": [
       "0        Libra\n",
       "1    Capricorn\n",
       "2        Libra\n",
       "3          Leo\n",
       "4        Aries\n",
       "Name: Sun_Sign, dtype: object"
      ]
     },
     "execution_count": 13,
     "metadata": {},
     "output_type": "execute_result"
    }
   ],
   "source": [
    "# Review the y variable Series\n",
    "y_zodiac_MBTI[:5]"
   ]
  },
  {
   "cell_type": "code",
   "execution_count": 14,
   "id": "f6ecd157",
   "metadata": {},
   "outputs": [
    {
     "data": {
      "text/html": [
       "<div>\n",
       "<style scoped>\n",
       "    .dataframe tbody tr th:only-of-type {\n",
       "        vertical-align: middle;\n",
       "    }\n",
       "\n",
       "    .dataframe tbody tr th {\n",
       "        vertical-align: top;\n",
       "    }\n",
       "\n",
       "    .dataframe thead th {\n",
       "        text-align: right;\n",
       "    }\n",
       "</style>\n",
       "<table border=\"1\" class=\"dataframe\">\n",
       "  <thead>\n",
       "    <tr style=\"text-align: right;\">\n",
       "      <th></th>\n",
       "      <th>ENFJ</th>\n",
       "      <th>ENFP</th>\n",
       "      <th>ENTJ</th>\n",
       "      <th>ENTP</th>\n",
       "      <th>ESFJ</th>\n",
       "      <th>ESFP</th>\n",
       "      <th>ESTJ</th>\n",
       "      <th>ESTP</th>\n",
       "      <th>INFJ</th>\n",
       "      <th>INFP</th>\n",
       "      <th>INTJ</th>\n",
       "      <th>INTP</th>\n",
       "      <th>ISFJ</th>\n",
       "      <th>ISFP</th>\n",
       "      <th>ISTJ</th>\n",
       "      <th>ISTP</th>\n",
       "    </tr>\n",
       "  </thead>\n",
       "  <tbody>\n",
       "    <tr>\n",
       "      <th>0</th>\n",
       "      <td>0</td>\n",
       "      <td>0</td>\n",
       "      <td>0</td>\n",
       "      <td>0</td>\n",
       "      <td>0</td>\n",
       "      <td>0</td>\n",
       "      <td>0</td>\n",
       "      <td>0</td>\n",
       "      <td>0</td>\n",
       "      <td>1</td>\n",
       "      <td>0</td>\n",
       "      <td>0</td>\n",
       "      <td>0</td>\n",
       "      <td>0</td>\n",
       "      <td>0</td>\n",
       "      <td>0</td>\n",
       "    </tr>\n",
       "    <tr>\n",
       "      <th>1</th>\n",
       "      <td>0</td>\n",
       "      <td>0</td>\n",
       "      <td>0</td>\n",
       "      <td>1</td>\n",
       "      <td>0</td>\n",
       "      <td>0</td>\n",
       "      <td>0</td>\n",
       "      <td>0</td>\n",
       "      <td>0</td>\n",
       "      <td>0</td>\n",
       "      <td>0</td>\n",
       "      <td>0</td>\n",
       "      <td>0</td>\n",
       "      <td>0</td>\n",
       "      <td>0</td>\n",
       "      <td>0</td>\n",
       "    </tr>\n",
       "    <tr>\n",
       "      <th>2</th>\n",
       "      <td>0</td>\n",
       "      <td>0</td>\n",
       "      <td>0</td>\n",
       "      <td>0</td>\n",
       "      <td>0</td>\n",
       "      <td>0</td>\n",
       "      <td>0</td>\n",
       "      <td>0</td>\n",
       "      <td>0</td>\n",
       "      <td>0</td>\n",
       "      <td>0</td>\n",
       "      <td>1</td>\n",
       "      <td>0</td>\n",
       "      <td>0</td>\n",
       "      <td>0</td>\n",
       "      <td>0</td>\n",
       "    </tr>\n",
       "    <tr>\n",
       "      <th>3</th>\n",
       "      <td>0</td>\n",
       "      <td>0</td>\n",
       "      <td>0</td>\n",
       "      <td>0</td>\n",
       "      <td>0</td>\n",
       "      <td>0</td>\n",
       "      <td>0</td>\n",
       "      <td>0</td>\n",
       "      <td>0</td>\n",
       "      <td>0</td>\n",
       "      <td>0</td>\n",
       "      <td>1</td>\n",
       "      <td>0</td>\n",
       "      <td>0</td>\n",
       "      <td>0</td>\n",
       "      <td>0</td>\n",
       "    </tr>\n",
       "    <tr>\n",
       "      <th>4</th>\n",
       "      <td>0</td>\n",
       "      <td>0</td>\n",
       "      <td>0</td>\n",
       "      <td>0</td>\n",
       "      <td>0</td>\n",
       "      <td>1</td>\n",
       "      <td>0</td>\n",
       "      <td>0</td>\n",
       "      <td>0</td>\n",
       "      <td>0</td>\n",
       "      <td>0</td>\n",
       "      <td>0</td>\n",
       "      <td>0</td>\n",
       "      <td>0</td>\n",
       "      <td>0</td>\n",
       "      <td>0</td>\n",
       "    </tr>\n",
       "  </tbody>\n",
       "</table>\n",
       "</div>"
      ],
      "text/plain": [
       "   ENFJ  ENFP  ENTJ  ENTP  ESFJ  ESFP  ESTJ  ESTP  INFJ  INFP  INTJ  INTP  \\\n",
       "0     0     0     0     0     0     0     0     0     0     1     0     0   \n",
       "1     0     0     0     1     0     0     0     0     0     0     0     0   \n",
       "2     0     0     0     0     0     0     0     0     0     0     0     1   \n",
       "3     0     0     0     0     0     0     0     0     0     0     0     1   \n",
       "4     0     0     0     0     0     1     0     0     0     0     0     0   \n",
       "\n",
       "   ISFJ  ISFP  ISTJ  ISTP  \n",
       "0     0     0     0     0  \n",
       "1     0     0     0     0  \n",
       "2     0     0     0     0  \n",
       "3     0     0     0     0  \n",
       "4     0     0     0     0  "
      ]
     },
     "execution_count": 14,
     "metadata": {},
     "output_type": "execute_result"
    }
   ],
   "source": [
    "# Review the X variable DataFrame\n",
    "X_zodiac_MBTI[:5]"
   ]
  },
  {
   "cell_type": "code",
   "execution_count": 15,
   "id": "d0a6ad58",
   "metadata": {},
   "outputs": [
    {
     "data": {
      "text/plain": [
       "Taurus         32\n",
       "Cancer         31\n",
       "Capricorn      28\n",
       "Pisces         28\n",
       "Virgo          27\n",
       "Leo            26\n",
       "Sagittarius    26\n",
       "Aquarius       26\n",
       "Aries          24\n",
       "Scorpio        20\n",
       "Libra          19\n",
       "Gemini         19\n",
       "Name: Sun_Sign, dtype: int64"
      ]
     },
     "execution_count": 15,
     "metadata": {},
     "output_type": "execute_result"
    }
   ],
   "source": [
    "# Check the balance of our target values\n",
    "balance_y_zodiac_MBTI = y_zodiac_MBTI.value_counts()\n",
    "balance_y_zodiac_MBTI"
   ]
  },
  {
   "cell_type": "code",
   "execution_count": 16,
   "id": "b9f3855e",
   "metadata": {},
   "outputs": [],
   "source": [
    "# Split the data using train_test_split\n",
    "\n",
    "X_zodiac_MBTI_train, X_zodiac_MBTI_test, y_zodiac_MBTI_train, y_zodiac_MBTI_test = train_test_split(\n",
    "    X_zodiac_MBTI,\n",
    "    y_zodiac_MBTI\n",
    ")\n"
   ]
  },
  {
   "cell_type": "code",
   "execution_count": 17,
   "id": "3a5b311d",
   "metadata": {},
   "outputs": [],
   "source": [
    "# Instantiate the Logistic Regression model\n",
    "logistic_regression_model = LogisticRegression()\n",
    "\n",
    "# Fit the model using training data\n",
    "zodiac_MBTI_model = logistic_regression_model.fit(X_zodiac_MBTI_train, y_zodiac_MBTI_train)"
   ]
  },
  {
   "cell_type": "code",
   "execution_count": 18,
   "id": "1cea9ee6",
   "metadata": {},
   "outputs": [
    {
     "data": {
      "text/plain": [
       "array(['Leo', 'Leo', 'Capricorn', 'Capricorn', 'Leo', 'Taurus',\n",
       "       'Sagittarius', 'Taurus', 'Capricorn', 'Leo', 'Leo', 'Capricorn',\n",
       "       'Taurus', 'Taurus', 'Taurus', 'Taurus', 'Taurus', 'Taurus', 'Leo',\n",
       "       'Taurus', 'Capricorn', 'Leo', 'Taurus', 'Taurus', 'Virgo',\n",
       "       'Taurus', 'Taurus', 'Taurus', 'Taurus', 'Leo', 'Capricorn',\n",
       "       'Taurus', 'Aries', 'Taurus', 'Leo', 'Taurus', 'Taurus', 'Taurus',\n",
       "       'Taurus', 'Taurus', 'Taurus', 'Taurus', 'Capricorn', 'Taurus',\n",
       "       'Taurus', 'Taurus', 'Taurus', 'Taurus', 'Capricorn', 'Taurus',\n",
       "       'Leo', 'Capricorn', 'Sagittarius', 'Capricorn', 'Taurus', 'Taurus',\n",
       "       'Taurus', 'Taurus', 'Taurus', 'Taurus', 'Taurus', 'Leo', 'Pisces',\n",
       "       'Taurus', 'Leo', 'Taurus', 'Taurus', 'Capricorn', 'Taurus',\n",
       "       'Capricorn', 'Taurus', 'Taurus', 'Aries', 'Taurus', 'Taurus',\n",
       "       'Leo', 'Sagittarius'], dtype=object)"
      ]
     },
     "execution_count": 18,
     "metadata": {},
     "output_type": "execute_result"
    }
   ],
   "source": [
    "# Make a prediction using the testing data\n",
    "predictions_zodiac_MBTI = zodiac_MBTI_model.predict(X_zodiac_MBTI_test)\n",
    "predictions_zodiac_MBTI"
   ]
  },
  {
   "cell_type": "code",
   "execution_count": 19,
   "id": "0d8ef771",
   "metadata": {},
   "outputs": [
    {
     "data": {
      "text/plain": [
       "0.07589285714285714"
      ]
     },
     "execution_count": 19,
     "metadata": {},
     "output_type": "execute_result"
    }
   ],
   "source": [
    "# Print the balanced_accuracy score of the model\n",
    "accuracy_zodiac_MBTI = balanced_accuracy_score(y_zodiac_MBTI_test, predictions_zodiac_MBTI)\n",
    "accuracy_zodiac_MBTI"
   ]
  },
  {
   "cell_type": "markdown",
   "id": "692638d4",
   "metadata": {},
   "source": [
    "### Machine Learning to Predict Sun Sign by Expanded MBTI Traits"
   ]
  },
  {
   "cell_type": "code",
   "execution_count": 20,
   "id": "68a2106e",
   "metadata": {},
   "outputs": [],
   "source": [
    "# Separate the data into labels and features -- sun sign as target and expanded MBTI Type traits as dimensions (i.e. Introverted, Extroverted, Intuition, etc.)\n",
    "\n",
    "# Separate the y variable, the labels\n",
    "y_zodiac_traits = df_zodiac['Sun_Sign']\n",
    "\n",
    "# Separate the X variable, the features\n",
    "X_zodiac_traits = df_zodiac[['Introverted', 'Perceiving',\n",
    "       'Intuition', 'Extroverted', 'Feeling', 'Judging', 'Sensing', 'Thinking']]"
   ]
  },
  {
   "cell_type": "code",
   "execution_count": 21,
   "id": "dd680d38",
   "metadata": {},
   "outputs": [
    {
     "data": {
      "text/plain": [
       "0        Libra\n",
       "1    Capricorn\n",
       "2        Libra\n",
       "3          Leo\n",
       "4        Aries\n",
       "Name: Sun_Sign, dtype: object"
      ]
     },
     "execution_count": 21,
     "metadata": {},
     "output_type": "execute_result"
    }
   ],
   "source": [
    "y_zodiac_traits[:5]"
   ]
  },
  {
   "cell_type": "code",
   "execution_count": 22,
   "id": "212704db",
   "metadata": {},
   "outputs": [
    {
     "data": {
      "text/html": [
       "<div>\n",
       "<style scoped>\n",
       "    .dataframe tbody tr th:only-of-type {\n",
       "        vertical-align: middle;\n",
       "    }\n",
       "\n",
       "    .dataframe tbody tr th {\n",
       "        vertical-align: top;\n",
       "    }\n",
       "\n",
       "    .dataframe thead th {\n",
       "        text-align: right;\n",
       "    }\n",
       "</style>\n",
       "<table border=\"1\" class=\"dataframe\">\n",
       "  <thead>\n",
       "    <tr style=\"text-align: right;\">\n",
       "      <th></th>\n",
       "      <th>Introverted</th>\n",
       "      <th>Perceiving</th>\n",
       "      <th>Intuition</th>\n",
       "      <th>Extroverted</th>\n",
       "      <th>Feeling</th>\n",
       "      <th>Judging</th>\n",
       "      <th>Sensing</th>\n",
       "      <th>Thinking</th>\n",
       "    </tr>\n",
       "  </thead>\n",
       "  <tbody>\n",
       "    <tr>\n",
       "      <th>0</th>\n",
       "      <td>1</td>\n",
       "      <td>1</td>\n",
       "      <td>1</td>\n",
       "      <td>0</td>\n",
       "      <td>1</td>\n",
       "      <td>0</td>\n",
       "      <td>0</td>\n",
       "      <td>0</td>\n",
       "    </tr>\n",
       "    <tr>\n",
       "      <th>1</th>\n",
       "      <td>0</td>\n",
       "      <td>1</td>\n",
       "      <td>1</td>\n",
       "      <td>1</td>\n",
       "      <td>0</td>\n",
       "      <td>0</td>\n",
       "      <td>0</td>\n",
       "      <td>1</td>\n",
       "    </tr>\n",
       "    <tr>\n",
       "      <th>2</th>\n",
       "      <td>1</td>\n",
       "      <td>1</td>\n",
       "      <td>1</td>\n",
       "      <td>0</td>\n",
       "      <td>0</td>\n",
       "      <td>0</td>\n",
       "      <td>0</td>\n",
       "      <td>1</td>\n",
       "    </tr>\n",
       "    <tr>\n",
       "      <th>3</th>\n",
       "      <td>1</td>\n",
       "      <td>1</td>\n",
       "      <td>1</td>\n",
       "      <td>0</td>\n",
       "      <td>0</td>\n",
       "      <td>0</td>\n",
       "      <td>0</td>\n",
       "      <td>1</td>\n",
       "    </tr>\n",
       "    <tr>\n",
       "      <th>4</th>\n",
       "      <td>0</td>\n",
       "      <td>1</td>\n",
       "      <td>0</td>\n",
       "      <td>1</td>\n",
       "      <td>1</td>\n",
       "      <td>0</td>\n",
       "      <td>1</td>\n",
       "      <td>0</td>\n",
       "    </tr>\n",
       "  </tbody>\n",
       "</table>\n",
       "</div>"
      ],
      "text/plain": [
       "   Introverted  Perceiving  Intuition  Extroverted  Feeling  Judging  Sensing  \\\n",
       "0            1           1          1            0        1        0        0   \n",
       "1            0           1          1            1        0        0        0   \n",
       "2            1           1          1            0        0        0        0   \n",
       "3            1           1          1            0        0        0        0   \n",
       "4            0           1          0            1        1        0        1   \n",
       "\n",
       "   Thinking  \n",
       "0         0  \n",
       "1         1  \n",
       "2         1  \n",
       "3         1  \n",
       "4         0  "
      ]
     },
     "execution_count": 22,
     "metadata": {},
     "output_type": "execute_result"
    }
   ],
   "source": [
    "X_zodiac_traits[:5]"
   ]
  },
  {
   "cell_type": "code",
   "execution_count": 23,
   "id": "b984112c",
   "metadata": {},
   "outputs": [],
   "source": [
    "# Split the data using train_test_split\n",
    "\n",
    "X_train_zodiac_traits, X_test_zodiac_traits, y_train_zodiac_traits, y_test_zodiac_traits = train_test_split(\n",
    "    X_zodiac_traits,\n",
    "    y_zodiac_traits\n",
    ")\n"
   ]
  },
  {
   "cell_type": "code",
   "execution_count": 24,
   "id": "e5b86408",
   "metadata": {},
   "outputs": [],
   "source": [
    "# Instantiate the Logistic Regression model\n",
    "logistic_regression_model = LogisticRegression()\n",
    "\n",
    "# Fit the model using training data\n",
    "zodiac_trait_model = logistic_regression_model.fit(X_train_zodiac_traits, y_train_zodiac_traits)"
   ]
  },
  {
   "cell_type": "code",
   "execution_count": 25,
   "id": "70db5dc5",
   "metadata": {},
   "outputs": [
    {
     "data": {
      "text/plain": [
       "array(['Taurus', 'Taurus', 'Pisces', 'Capricorn', 'Capricorn', 'Scorpio',\n",
       "       'Leo', 'Taurus', 'Taurus', 'Taurus', 'Pisces', 'Capricorn', 'Leo',\n",
       "       'Capricorn', 'Capricorn', 'Leo', 'Capricorn', 'Taurus', 'Taurus',\n",
       "       'Pisces', 'Taurus', 'Taurus', 'Taurus', 'Capricorn', 'Taurus',\n",
       "       'Capricorn', 'Pisces', 'Capricorn', 'Scorpio', 'Capricorn',\n",
       "       'Pisces', 'Capricorn', 'Taurus', 'Taurus', 'Capricorn',\n",
       "       'Capricorn', 'Capricorn', 'Capricorn', 'Virgo', 'Taurus', 'Pisces',\n",
       "       'Taurus', 'Taurus', 'Taurus', 'Taurus', 'Capricorn', 'Taurus',\n",
       "       'Taurus', 'Taurus', 'Capricorn', 'Taurus', 'Capricorn', 'Taurus',\n",
       "       'Capricorn', 'Taurus', 'Pisces', 'Taurus', 'Capricorn', 'Taurus',\n",
       "       'Capricorn', 'Taurus', 'Capricorn', 'Pisces', 'Capricorn', 'Leo',\n",
       "       'Pisces', 'Leo', 'Leo', 'Capricorn', 'Taurus', 'Capricorn',\n",
       "       'Aquarius', 'Taurus', 'Pisces', 'Capricorn', 'Capricorn', 'Pisces'],\n",
       "      dtype=object)"
      ]
     },
     "execution_count": 25,
     "metadata": {},
     "output_type": "execute_result"
    }
   ],
   "source": [
    "# Make a prediction using the testing data\n",
    "predictions_zodiac_traits = zodiac_trait_model.predict(X_test_zodiac_traits)\n",
    "predictions_zodiac_traits"
   ]
  },
  {
   "cell_type": "code",
   "execution_count": 26,
   "id": "566a3261",
   "metadata": {},
   "outputs": [
    {
     "data": {
      "text/plain": [
       "0.05565476190476191"
      ]
     },
     "execution_count": 26,
     "metadata": {},
     "output_type": "execute_result"
    }
   ],
   "source": [
    "# Print the balanced_accuracy score of the model\n",
    "accuracy_zodiac_traits = balanced_accuracy_score(y_test_zodiac_traits, predictions_zodiac_traits)\n",
    "accuracy_zodiac_traits"
   ]
  },
  {
   "cell_type": "markdown",
   "id": "d80d954f",
   "metadata": {},
   "source": [
    "### Machine Learning to Predict Birth Month by Expanded MBTI Type Traits"
   ]
  },
  {
   "cell_type": "code",
   "execution_count": 27,
   "id": "c023d8ab",
   "metadata": {},
   "outputs": [],
   "source": [
    "# Separate the data into labels and features -- birth month as target and expanded MBTI Type traits as dimensions (i.e. Introverted, Extroverted, Intuition, etc.)\n",
    "\n",
    "# Separate the y variable, the labels\n",
    "y_birth_month_traits = df_zodiac['Birth_Month']\n",
    "\n",
    "# Separate the X variable, the features\n",
    "X_birth_month_traits = df_zodiac[['Feeling', 'Judging', 'Introverted', 'Sensing', 'Thinking', 'Intuition',\n",
    "       'Perceiving', 'Extroverted']]"
   ]
  },
  {
   "cell_type": "code",
   "execution_count": 28,
   "id": "a35b192a",
   "metadata": {},
   "outputs": [],
   "source": [
    "# Split the data using train_test_split\n",
    "\n",
    "X_birth_month_traits_train, X_birth_month_traits_test, y_birth_month_traits_train, y_birth_month_traits_test = train_test_split(\n",
    "    X_birth_month_traits,\n",
    "    y_birth_month_traits\n",
    ")\n"
   ]
  },
  {
   "cell_type": "code",
   "execution_count": 29,
   "id": "60111457",
   "metadata": {},
   "outputs": [],
   "source": [
    "# Instantiate the Logistic Regression model\n",
    "logistic_regression_model = LogisticRegression()\n",
    "\n",
    "# Fit the model using training data\n",
    "birth_month_traits_model = logistic_regression_model.fit(X_birth_month_traits_train, y_birth_month_traits_train)"
   ]
  },
  {
   "cell_type": "code",
   "execution_count": 30,
   "id": "9f2645fd",
   "metadata": {},
   "outputs": [
    {
     "data": {
      "text/plain": [
       "array(['June', 'June', 'July', 'June', 'May', 'June', 'May', 'May',\n",
       "       'June', 'June', 'August', 'April', 'May', 'June', 'May', 'May',\n",
       "       'August', 'May', 'June', 'May', 'May', 'May', 'June', 'June',\n",
       "       'December', 'June', 'June', 'March', 'June', 'July', 'July', 'May',\n",
       "       'May', 'May', 'May', 'August', 'June', 'May', 'May', 'May', 'May',\n",
       "       'August', 'August', 'May', 'June', 'August', 'May', 'July', 'July',\n",
       "       'May', 'May', 'June', 'May', 'June', 'December', 'December',\n",
       "       'June', 'December', 'March', 'May', 'May', 'July', 'July', 'March',\n",
       "       'March', 'August', 'May', 'May', 'December', 'May', 'May', 'May',\n",
       "       'June', 'April', 'May', 'June', 'August'], dtype=object)"
      ]
     },
     "execution_count": 30,
     "metadata": {},
     "output_type": "execute_result"
    }
   ],
   "source": [
    "# Make a prediction using the testing data\n",
    "predictions_birth_month_traits = birth_month_traits_model.predict(X_birth_month_traits_test)\n",
    "predictions_birth_month_traits"
   ]
  },
  {
   "cell_type": "code",
   "execution_count": 31,
   "id": "6a6d8b88",
   "metadata": {},
   "outputs": [
    {
     "data": {
      "text/plain": [
       "0.061111111111111116"
      ]
     },
     "execution_count": 31,
     "metadata": {},
     "output_type": "execute_result"
    }
   ],
   "source": [
    "# Print the balanced_accuracy score of the model\n",
    "accuracy_birth_month_traits = balanced_accuracy_score(y_birth_month_traits_test, predictions_birth_month_traits)\n",
    "accuracy_birth_month_traits"
   ]
  },
  {
   "cell_type": "markdown",
   "id": "335e53dc",
   "metadata": {},
   "source": [
    "### Machine Learning Birth Month and Introversion"
   ]
  },
  {
   "cell_type": "code",
   "execution_count": 32,
   "id": "7409a66b",
   "metadata": {},
   "outputs": [],
   "source": [
    "# Separate the data into labels and features to predict Introversion by Birth Month\n",
    "\n",
    "# Separate the y variable, the labels\n",
    "y_introversion = df_zodiac['Introverted']\n",
    "\n",
    "# Separate the X variable, the features\n",
    "X_introversion = df_zodiac[['April', 'August', 'December', 'February',\n",
    "       'January', 'July', 'June', 'March', 'May', 'November', 'October',\n",
    "       'September']]"
   ]
  },
  {
   "cell_type": "code",
   "execution_count": 33,
   "id": "1886f5cf",
   "metadata": {},
   "outputs": [],
   "source": [
    "# Split the data using train_test_split\n",
    "\n",
    "X_train_introversion, X_test_introversion, y_train_introversion, y_test_introversion = train_test_split(\n",
    "    X_introversion,\n",
    "    y_introversion\n",
    ")\n"
   ]
  },
  {
   "cell_type": "code",
   "execution_count": 34,
   "id": "1be0469d",
   "metadata": {},
   "outputs": [],
   "source": [
    "# Instantiate the Logistic Regression model\n",
    "logistic_regression_model = LogisticRegression()\n",
    "\n",
    "# Fit the model using training data\n",
    "lr_model_introversion = logistic_regression_model.fit(X_train_introversion, y_train_introversion)"
   ]
  },
  {
   "cell_type": "code",
   "execution_count": 35,
   "id": "7e713631",
   "metadata": {},
   "outputs": [
    {
     "data": {
      "text/plain": [
       "array([1, 1, 1, 1, 1, 1, 1, 1, 1, 1, 1, 1, 1, 1, 1, 1, 1, 1, 1, 1, 1, 1,\n",
       "       1, 1, 1, 1, 1, 1, 1, 1, 1, 1, 1, 1, 1, 1, 1, 1, 1, 1, 1, 1, 1, 1,\n",
       "       1, 1, 1, 1, 1, 1, 1, 1, 1, 1, 1, 1, 1, 1, 1, 1, 1, 1, 1, 1, 1, 1,\n",
       "       1, 1, 1, 1, 1, 1, 1, 1, 1, 1, 1])"
      ]
     },
     "execution_count": 35,
     "metadata": {},
     "output_type": "execute_result"
    }
   ],
   "source": [
    "# Make a prediction using the testing data\n",
    "predictions_introversion = lr_model_introversion.predict(X_test_introversion)\n",
    "predictions_introversion"
   ]
  },
  {
   "cell_type": "code",
   "execution_count": 36,
   "id": "a3fec208",
   "metadata": {},
   "outputs": [
    {
     "data": {
      "text/plain": [
       "0.5"
      ]
     },
     "execution_count": 36,
     "metadata": {},
     "output_type": "execute_result"
    }
   ],
   "source": [
    "# Print the balanced_accuracy score of the model\n",
    "accuracy_introversion = balanced_accuracy_score(y_test_introversion, predictions_introversion)\n",
    "accuracy_introversion"
   ]
  },
  {
   "cell_type": "markdown",
   "id": "a264ce76",
   "metadata": {},
   "source": [
    "### Machine Learning Extroversion and Birth Month"
   ]
  },
  {
   "cell_type": "code",
   "execution_count": 37,
   "id": "5f6f197e",
   "metadata": {},
   "outputs": [],
   "source": [
    "# Separate the data into labels and features to predict Extroversion by Birth Month\n",
    "\n",
    "# Separate the y variable, the labels\n",
    "y_extroversion = df_zodiac['Extroverted']\n",
    "\n",
    "# Separate the X variable, the features\n",
    "X_extroversion = df_zodiac[['April', 'August', 'December', 'February',\n",
    "       'January', 'July', 'June', 'March', 'May', 'November', 'October',\n",
    "       'September']]"
   ]
  },
  {
   "cell_type": "code",
   "execution_count": 38,
   "id": "401bfb09",
   "metadata": {},
   "outputs": [],
   "source": [
    "# Split the data using train_test_split\n",
    "\n",
    "X_train_extroversion, X_test_extroversion, y_train_extroversion, y_test_extroversion = train_test_split(\n",
    "    X_extroversion,\n",
    "    y_extroversion\n",
    ")\n"
   ]
  },
  {
   "cell_type": "code",
   "execution_count": 39,
   "id": "e0a4ef68",
   "metadata": {},
   "outputs": [],
   "source": [
    "# Instantiate the Logistic Regression model\n",
    "logistic_regression_model = LogisticRegression()\n",
    "\n",
    "# Fit the model using training data\n",
    "lr_model_extroversion = logistic_regression_model.fit(X_train_extroversion, y_train_extroversion)"
   ]
  },
  {
   "cell_type": "code",
   "execution_count": 40,
   "id": "e7a7567b",
   "metadata": {},
   "outputs": [
    {
     "data": {
      "text/plain": [
       "array([0, 0, 0, 0, 0, 0, 0, 0, 0, 0, 0, 0, 0, 0, 0, 0, 0, 0, 0, 0, 0, 0,\n",
       "       0, 0, 0, 0, 0, 0, 0, 0, 0, 0, 0, 0, 0, 0, 0, 0, 0, 0, 0, 0, 0, 0,\n",
       "       0, 0, 0, 0, 0, 0, 0, 0, 0, 0, 0, 0, 0, 0, 0, 0, 0, 0, 0, 0, 0, 0,\n",
       "       0, 0, 0, 0, 0, 0, 0, 0, 0, 0, 0])"
      ]
     },
     "execution_count": 40,
     "metadata": {},
     "output_type": "execute_result"
    }
   ],
   "source": [
    "# Make a prediction using the testing data\n",
    "predictions_extroversion = lr_model_extroversion.predict(X_test_extroversion)\n",
    "predictions_extroversion"
   ]
  },
  {
   "cell_type": "code",
   "execution_count": 41,
   "id": "6eccbcb3",
   "metadata": {},
   "outputs": [
    {
     "data": {
      "text/plain": [
       "0.5"
      ]
     },
     "execution_count": 41,
     "metadata": {},
     "output_type": "execute_result"
    }
   ],
   "source": [
    "# Print the balanced_accuracy score of the model\n",
    "accuracy_extroversion = balanced_accuracy_score(y_test_extroversion, predictions_extroversion)\n",
    "accuracy_extroversion"
   ]
  },
  {
   "cell_type": "markdown",
   "id": "6a324339",
   "metadata": {},
   "source": [
    "### Machine Learning Extroversion by Sun Sign"
   ]
  },
  {
   "cell_type": "code",
   "execution_count": 42,
   "id": "d821d231",
   "metadata": {},
   "outputs": [],
   "source": [
    "# Separate the data into labels and features to predict Extroversion by sun sign\n",
    "\n",
    "# Separate the y variable, the labels\n",
    "y_extroversion_zodiac = df_zodiac['Extroverted']\n",
    "\n",
    "# Separate the X variable, the features\n",
    "X_extroversion_zodiac = df_zodiac[['Aquarius', 'Aries', 'Cancer', 'Capricorn',\n",
    "       'Gemini', 'Leo', 'Libra', 'Pisces', 'Sagittarius', 'Scorpio', 'Taurus',\n",
    "       'Virgo']]"
   ]
  },
  {
   "cell_type": "code",
   "execution_count": 43,
   "id": "7e498314",
   "metadata": {},
   "outputs": [],
   "source": [
    "# Split the data using train_test_split\n",
    "\n",
    "X_train_extroversion_zodiac, X_test_extroversion_zodiac, y_train_extroversion_zodiac, y_test_extroversion_zodiac = train_test_split(\n",
    "    X_extroversion_zodiac,\n",
    "    y_extroversion_zodiac\n",
    ")\n"
   ]
  },
  {
   "cell_type": "code",
   "execution_count": 44,
   "id": "37d226b6",
   "metadata": {},
   "outputs": [],
   "source": [
    "# Instantiate the Logistic Regression model\n",
    "logistic_regression_model = LogisticRegression()\n",
    "\n",
    "# Fit the model using training data\n",
    "lr_model_extroversion_zodiac = logistic_regression_model.fit(X_train_extroversion_zodiac, y_train_extroversion_zodiac)"
   ]
  },
  {
   "cell_type": "code",
   "execution_count": 45,
   "id": "1aa25b53",
   "metadata": {},
   "outputs": [
    {
     "data": {
      "text/plain": [
       "array([0, 0, 0, 0, 0, 0, 0, 0, 0, 0, 0, 0, 0, 0, 0, 0, 0, 0, 0, 0, 0, 0,\n",
       "       0, 0, 0, 0, 0, 0, 0, 0, 0, 0, 0, 0, 0, 0, 0, 0, 0, 0, 0, 0, 0, 0,\n",
       "       0, 0, 0, 0, 0, 0, 0, 0, 0, 0, 0, 0, 0, 0, 0, 0, 0, 0, 0, 0, 0, 0,\n",
       "       0, 0, 0, 0, 0, 0, 0, 0, 0, 0, 0])"
      ]
     },
     "execution_count": 45,
     "metadata": {},
     "output_type": "execute_result"
    }
   ],
   "source": [
    "# Make a prediction using the testing data\n",
    "predictions_extroversion_zodiac = lr_model_extroversion_zodiac.predict(X_test_extroversion_zodiac)\n",
    "predictions_extroversion_zodiac"
   ]
  },
  {
   "cell_type": "code",
   "execution_count": 46,
   "id": "ed91aba4",
   "metadata": {},
   "outputs": [
    {
     "data": {
      "text/plain": [
       "0.5"
      ]
     },
     "execution_count": 46,
     "metadata": {},
     "output_type": "execute_result"
    }
   ],
   "source": [
    "# Print the balanced_accuracy score of the model\n",
    "accuracy_extroversion_zodiac = balanced_accuracy_score(y_test_extroversion_zodiac, predictions_extroversion_zodiac)\n",
    "accuracy_extroversion_zodiac"
   ]
  },
  {
   "cell_type": "code",
   "execution_count": 47,
   "id": "d4ececcc",
   "metadata": {},
   "outputs": [],
   "source": [
    "# Separate the data into labels and features to predict Extroversion by sun sign other method\n",
    "\n",
    "# Separate the y variable, the labels\n",
    "y_extroversion_zodiac_2 = df_zodiac['Sun_Sign']\n",
    "\n",
    "# Separate the X variable, the features\n",
    "X_extroversion_zodiac_2 = df_zodiac[['Extroverted']]"
   ]
  },
  {
   "cell_type": "code",
   "execution_count": 48,
   "id": "5def10b6",
   "metadata": {},
   "outputs": [],
   "source": [
    "# Split the data using train_test_split\n",
    "\n",
    "X_train_extroversion_zodiac_2, X_test_extroversion_zodiac_2, y_train_extroversion_zodiac_2, y_test_extroversion_zodiac_2 = train_test_split(\n",
    "    X_extroversion_zodiac_2,\n",
    "    y_extroversion_zodiac_2\n",
    ")\n"
   ]
  },
  {
   "cell_type": "code",
   "execution_count": 49,
   "id": "5dd85dd3",
   "metadata": {},
   "outputs": [],
   "source": [
    "# Instantiate the Logistic Regression model\n",
    "logistic_regression_model = LogisticRegression()\n",
    "\n",
    "# Fit the model using training data\n",
    "lr_model_extroversion_zodiac_2 = logistic_regression_model.fit(X_train_extroversion_zodiac_2, y_train_extroversion_zodiac_2)"
   ]
  },
  {
   "cell_type": "code",
   "execution_count": 50,
   "id": "3f546bd9",
   "metadata": {},
   "outputs": [
    {
     "data": {
      "text/plain": [
       "array(['Cancer', 'Cancer', 'Cancer', 'Cancer', 'Cancer', 'Capricorn',\n",
       "       'Cancer', 'Cancer', 'Cancer', 'Cancer', 'Cancer', 'Cancer',\n",
       "       'Capricorn', 'Cancer', 'Cancer', 'Cancer', 'Cancer', 'Cancer',\n",
       "       'Cancer', 'Cancer', 'Cancer', 'Capricorn', 'Cancer', 'Cancer',\n",
       "       'Cancer', 'Cancer', 'Cancer', 'Cancer', 'Capricorn', 'Cancer',\n",
       "       'Cancer', 'Capricorn', 'Cancer', 'Cancer', 'Cancer', 'Cancer',\n",
       "       'Cancer', 'Capricorn', 'Capricorn', 'Cancer', 'Cancer', 'Cancer',\n",
       "       'Cancer', 'Cancer', 'Cancer', 'Cancer', 'Capricorn', 'Capricorn',\n",
       "       'Capricorn', 'Cancer', 'Cancer', 'Cancer', 'Cancer', 'Cancer',\n",
       "       'Capricorn', 'Cancer', 'Cancer', 'Cancer', 'Cancer', 'Cancer',\n",
       "       'Cancer', 'Cancer', 'Cancer', 'Cancer', 'Cancer', 'Cancer',\n",
       "       'Cancer', 'Cancer', 'Capricorn', 'Cancer', 'Capricorn', 'Cancer',\n",
       "       'Cancer', 'Cancer', 'Cancer', 'Cancer', 'Cancer'], dtype=object)"
      ]
     },
     "execution_count": 50,
     "metadata": {},
     "output_type": "execute_result"
    }
   ],
   "source": [
    "# Make a prediction using the testing data\n",
    "predictions_extroversion_zodiac_2 = lr_model_extroversion_zodiac_2.predict(X_test_extroversion_zodiac_2)\n",
    "predictions_extroversion_zodiac_2"
   ]
  },
  {
   "cell_type": "code",
   "execution_count": 51,
   "id": "54b9dba4",
   "metadata": {},
   "outputs": [
    {
     "data": {
      "text/plain": [
       "0.1111111111111111"
      ]
     },
     "execution_count": 51,
     "metadata": {},
     "output_type": "execute_result"
    }
   ],
   "source": [
    "# Print the balanced_accuracy score of the model\n",
    "accuracy_extroversion_zodiac_2 = balanced_accuracy_score(y_test_extroversion_zodiac_2, predictions_extroversion_zodiac_2)\n",
    "accuracy_extroversion_zodiac_2"
   ]
  },
  {
   "cell_type": "code",
   "execution_count": null,
   "id": "e05397b3",
   "metadata": {},
   "outputs": [],
   "source": []
  }
 ],
 "metadata": {
  "kernelspec": {
   "display_name": "Python 3 (ipykernel)",
   "language": "python",
   "name": "python3"
  },
  "language_info": {
   "codemirror_mode": {
    "name": "ipython",
    "version": 3
   },
   "file_extension": ".py",
   "mimetype": "text/x-python",
   "name": "python",
   "nbconvert_exporter": "python",
   "pygments_lexer": "ipython3",
   "version": "3.9.13"
  }
 },
 "nbformat": 4,
 "nbformat_minor": 5
}
